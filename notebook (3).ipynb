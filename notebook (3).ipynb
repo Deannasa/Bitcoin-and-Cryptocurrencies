{
  "metadata": {
    "kernelspec": {
      "name": "python",
      "display_name": "Python (Pyodide)",
      "language": "python"
    },
    "language_info": {
      "codemirror_mode": {
        "name": "python",
        "version": 3
      },
      "file_extension": ".py",
      "mimetype": "text/x-python",
      "name": "python",
      "nbconvert_exporter": "python",
      "pygments_lexer": "ipython3",
      "version": "3.8"
    }
  },
  "nbformat_minor": 5,
  "nbformat": 4,
  "cells": [
    {
      "cell_type": "markdown",
      "source": "## Bitcoin and Cryptocurrencies: Full dataset, filtering\n<p>Since the <a href=\"https://newfronttest.bitcoin.com/bitcoin.pdf\">launch of Bitcoin in 2008</a>, hundreds of similar projects based on the blockchain technology have emerged. We call these cryptocurrencies (also coins or cryptos in the Internet slang). Some are extremely valuable nowadays, and others may have the potential to become extremely valuable in the future<sup>1</sup>. In fact, on the 6th of December of 2017, Bitcoin has a <a href=\"https://en.wikipedia.org/wiki/Market_capitalization\">market capitalization</a> above $200 billion. </p>\n<p><center>\n<img src=\"https://assets.datacamp.com/production/project_82/img/bitcoint_market_cap_2017.png\" style=\"width:500px\"> <br> \n<em>The astonishing increase of Bitcoin market capitalization in 2017.</em></center></p>\n<p>I will use a CSV from the 6th of December of 2017 using the coinmarketcap API (NOTE: The public API went private in 2020 and is no longer available) named <code>datasets/coinmarketcap_06122017.csv</code>. </p>",
      "metadata": {
        "dc": {
          "key": "4"
        },
        "run_control": {
          "frozen": true
        },
        "tags": [
          "context"
        ]
      },
      "id": "d6526f18-06b5-47c6-be96-a385228d3106"
    },
    {
      "cell_type": "code",
      "source": "import pandas as pd\n\n# Importing matplotlib and setting aesthetics for plotting later.\nimport matplotlib.pyplot as plt\n%matplotlib inline\n%config InlineBackend.figure_format = 'svg' \nplt.style.use('fivethirtyeight')\n\ndec6 = pd.read_csv('datasets/coinmarketcap_06122017.csv')\n\n\n# Selecting the 'id' and the 'market_cap_usd' columns\nmarket_cap_raw = dec6.loc[:,['id','market_cap_usd']]\n# Counting the number of values\nprint(market_cap_raw.loc[:,['market_cap_usd']].count())\n\n",
      "metadata": {
        "dc": {
          "key": "4"
        },
        "tags": [
          "sample_code"
        ],
        "trusted": true
      },
      "execution_count": null,
      "outputs": [],
      "id": "acc519c1-6957-4149-b361-b90d5e4b514b"
    },
    {
      "cell_type": "markdown",
      "source": "## Dilling with missing values, Discard the cryptocurrencies without a market capitalization\n<p>some cryptocurrencies listed in coinmarketcap.com have no known market capitalization, this is represented by <code>NaN</code> in the data, and <code>NaN</code>s are not counted by <code>count()</code>. These cryptocurrencies are of little interest to us in this analysis, so they are safe to remove.</p>",
      "metadata": {
        "dc": {
          "key": "11"
        },
        "run_control": {
          "frozen": true
        },
        "tags": [
          "context"
        ]
      },
      "id": "1e7ae5b9-8696-449d-adc3-abbda8236007"
    },
    {
      "cell_type": "code",
      "source": "# Filtering out rows without a market capitalization\ncap = market_cap_raw.query('market_cap_usd > 0')\ncap.head()\n# Counting the number of values again\nprint(cap.count())\n",
      "metadata": {
        "dc": {
          "key": "11"
        },
        "tags": [
          "sample_code"
        ],
        "trusted": true
      },
      "execution_count": null,
      "outputs": [],
      "id": "3358a5ab-8f24-459e-adfc-c2f4956f30d6"
    },
    {
      "cell_type": "markdown",
      "source": "## How big is Bitcoin compared with the rest of the cryptocurrencies?\n<p>At the time of writing, Bitcoin is under serious competition from other projects, but it is still dominant in market capitalization. Let's plot the market capitalization for the top 10 coins as a barplot to better visualize this.</p>",
      "metadata": {
        "dc": {
          "key": "18"
        },
        "run_control": {
          "frozen": true
        },
        "tags": [
          "context"
        ]
      },
      "id": "3af480ec-bd0d-43ef-bb75-11e4f37a43a4"
    },
    {
      "cell_type": "code",
      "source": "#Declaring these now for later use in the plots\nTOP_CAP_TITLE = 'Top 10 market capitalization'\nTOP_CAP_YLABEL = '% of total cap'\n\n# Selecting the first 10 rows and setting the index\n\ncap10 = cap[:10].set_index('id')\n\n# Calculating market_cap_perc\ncap10 = cap10.assign(market_cap_perc = lambda x: (x.market_cap_usd / cap.market_cap_usd.sum())*100)\n\n# Plotting the barplot  \nax = cap10.market_cap_perc.plot.bar(title=TOP_CAP_TITLE)\n\n# Annotating the y axis with the label defined above\nax.set_ylabel(TOP_CAP_YLABEL);",
      "metadata": {
        "dc": {
          "key": "18"
        },
        "tags": [
          "sample_code"
        ],
        "trusted": true
      },
      "execution_count": null,
      "outputs": [],
      "id": "686ce8b0-58f4-429c-a097-ca7ebb6b6aaf"
    },
    {
      "cell_type": "markdown",
      "source": "## Making the plot easier to read and more informative\n<p>While the plot above is informative enough, it can be improved. Bitcoin is too big, and the other coins are hard to distinguish because of this. Instead of the percentage, let's use a log<sup>10</sup> scale of the \"raw\" capitalization. Plus, let's use color to group similar coins and make the plot more informative<sup>1</sup>. </p>",
      "metadata": {
        "dc": {
          "key": "25"
        },
        "run_control": {
          "frozen": true
        },
        "tags": [
          "context"
        ]
      },
      "id": "3e102b3e-dd30-4ecc-82b5-7d1f98299304"
    },
    {
      "cell_type": "code",
      "source": "# Colors for the bar plot\nCOLORS = ['orange', 'green', 'orange', 'cyan', 'cyan', 'blue', 'silver', 'orange', 'red', 'green']\n\n# Plotting market_cap_usd as before but adding the colors and scaling the y-axis  \nax = cap10.market_cap_usd.plot.bar(title=TOP_CAP_TITLE, logy = True )\n\n# Annotating the y axis with 'USD'\nax.set_ylabel('USD');\n\n\n# Final touch! Removing the xlabel as it is not very informative\nax.set_xlabel('');",
      "metadata": {
        "dc": {
          "key": "25"
        },
        "tags": [
          "sample_code"
        ],
        "trusted": true
      },
      "execution_count": null,
      "outputs": [],
      "id": "5e5737f9-3223-453a-a5ff-1150573ad953"
    },
    {
      "cell_type": "markdown",
      "source": "## Volatility in cryptocurrencies\n<p>The cryptocurrencies market has been spectacularly volatile since the first exchange opened. I will begin by selecting and plotting the 24 hours and 7 days percentage change, which I already have available.</p>",
      "metadata": {
        "dc": {
          "key": "32"
        },
        "run_control": {
          "frozen": true
        },
        "tags": [
          "context"
        ]
      },
      "id": "92de5271-8830-481c-98f4-39aade827fc2"
    },
    {
      "cell_type": "code",
      "source": "# Selecting the id, percent_change_24h and percent_change_7d columns\n# Setting the index to 'id' and dropping all NaN rows\nvolatility = dec6[['id', 'percent_change_24h', 'percent_change_7d']]\nvolatility = volatility.set_index('id').dropna()\n\n# Sorting the DataFrame by percent_change_24h in ascending order\nvolatility = volatility.sort_values('percent_change_24h')\n\n\n# Checking the first few rows\nvolatility.head()",
      "metadata": {
        "dc": {
          "key": "32"
        },
        "tags": [
          "sample_code"
        ],
        "trusted": true
      },
      "execution_count": null,
      "outputs": [],
      "id": "d370c655-3b9b-4207-9f23-c4815684935c"
    },
    {
      "cell_type": "markdown",
      "source": "## Well, we can already see that things are *a bit* crazy\n<p>It seems you can lose a lot of money quickly on cryptocurrencies. plotting the top 10 biggest gainers and top 10 losers in market capitalization.</p>",
      "metadata": {
        "dc": {
          "key": "39"
        },
        "run_control": {
          "frozen": true
        },
        "tags": [
          "context"
        ]
      },
      "id": "155a0318-19f6-423a-9697-ed182cd85193"
    },
    {
      "cell_type": "code",
      "source": "#Defining a function with 2 parameters, the series to plot and the title\ndef top10_subplot(volatility_series, title):\n    # making the subplot and the figure for nrows and ncolumns\n    fig, axes = plt.subplots(nrows=1, ncols=2, figsize=(10, 6))\n    # Plotting with pandas the barchart for the top 10 losers with the color RED\n    ax = volatility_series[:10].plot.bar(color=\"darkred\", ax=axes[0])\n    # Setting the main title to TITLE\n    fig.suptitle(title)\n    # Setting the ylabel to \"% change\"\n    ax.set_ylabel('% change')\n    # Same as above, but for the top 10 winners and in darkblue\n    ax = volatility_series[-10:].plot.bar(color=\"darkblue\", ax=axes[1])\n    # Returning this for good practice, might use later\n    return fig, ax\n\nDTITLE = \"24 hours top losers and winners\"\n\nfig, ax = top10_subplot(volatility.percent_change_24h, DTITLE)",
      "metadata": {
        "dc": {
          "key": "39"
        },
        "tags": [
          "sample_code"
        ],
        "trusted": true
      },
      "execution_count": null,
      "outputs": [],
      "id": "ac29aa12-3bbe-4c9b-8120-4c029d922ef0"
    },
    {
      "cell_type": "markdown",
      "source": "## check for the weekly Series.\n<p>800% daily increase?!, I'll reuse the function defined above to see what is going weekly instead of daily.</p>\n",
      "metadata": {
        "dc": {
          "key": "46"
        },
        "run_control": {
          "frozen": true
        },
        "tags": [
          "context"
        ]
      },
      "id": "9b74c02d-242f-478b-b8bf-494fe9898490"
    },
    {
      "cell_type": "code",
      "source": "# Sorting in ascending order\nvolatility7d = volatility.sort_values(\"percent_change_7d\")\n\nWTITLE = \"Weekly top losers and winners\"\n\n# Calling the top10_subplot function\nfig, ax = top10_subplot(volatility7d.percent_change_7d, WTITLE);",
      "metadata": {
        "dc": {
          "key": "46"
        },
        "tags": [
          "sample_code"
        ],
        "trusted": true
      },
      "execution_count": null,
      "outputs": [],
      "id": "6d442893-3d58-420f-8445-5c7f0233673e"
    },
    {
      "cell_type": "markdown",
      "source": "## How small is small?\n<p>The names of the cryptocurrencies above are quite unknown, and there is a considerable fluctuation between the 1 and 7 days percentage changes. As with stocks, and many other financial products, the smaller the capitalization, the bigger the risk and reward. Smaller cryptocurrencies are less stable projects in general, and therefore even riskier investments than the bigger ones<sup>1</sup>. I'll classify my dataset based on Investopedia's capitalization <a href=\"https://www.investopedia.com/video/play/large-cap/\">definitions</a> for company stocks. </p>\n<p><sup>1</sup> <em>Cryptocurrencies are a new asset class, so they are not directly comparable to stocks. Furthermore, there are no limits set in stone for what a \"small\" or \"large\" stock is. Finally, some investors argue that bitcoin is similar to gold, this would make them more comparable to a <a href=\"https://www.investopedia.com/terms/c/commodity.asp\">commodity</a> instead.</em></p>",
      "metadata": {
        "dc": {
          "key": "53"
        },
        "run_control": {
          "frozen": true
        },
        "tags": [
          "context"
        ]
      },
      "id": "fde494ac-cb8f-4c26-96c9-0fa542ab8b37"
    },
    {
      "cell_type": "code",
      "source": "# Selecting everything bigger than 10 billion \nlargecaps = cap.query('market_cap_usd >= 10000000000')\n\nprint(largecaps)",
      "metadata": {
        "dc": {
          "key": "53"
        },
        "tags": [
          "sample_code"
        ],
        "trusted": true
      },
      "execution_count": null,
      "outputs": [],
      "id": "fd5b777e-b95f-45c5-b983-17e959b501b0"
    },
    {
      "cell_type": "markdown",
      "source": "## Most coins are tiny\n<p>many coins are not comparable to large companies in market cap, so let's divert from the original Investopedia definition by merging categories.</p>",
      "metadata": {
        "dc": {
          "key": "60"
        },
        "run_control": {
          "frozen": true
        },
        "tags": [
          "context"
        ]
      },
      "id": "3e68fe09-d6fa-46d2-aa8a-fe13d40b69c2"
    },
    {
      "cell_type": "code",
      "source": "# function for counting different marketcaps from the\ndef capcount(query_string):\n    return cap.query(query_string).count().id\n\nLABELS = [\"biggish\", \"micro\", \"nano\"]\n\nbiggish = capcount(\"market_cap_usd > 3E+8\")\n\nmicro = capcount(\"market_cap_usd >= 5E+7 & market_cap_usd < 3E+8\")\n\nnano =  capcount(\"market_cap_usd < 5E+7\")\n\nvalues = [biggish, micro, nano]\n\nplt.bar(range(len(values)), values, tick_label=LABELS);\n\n",
      "metadata": {
        "dc": {
          "key": "60"
        },
        "tags": [
          "sample_code"
        ],
        "trusted": true
      },
      "execution_count": null,
      "outputs": [],
      "id": "c4569b08-1dbc-4bce-b729-518c022ed64a"
    }
  ]
}